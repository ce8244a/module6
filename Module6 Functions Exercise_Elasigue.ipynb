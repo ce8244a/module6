{
 "cells": [
  {
   "cell_type": "markdown",
   "metadata": {},
   "source": [
    "1. Round 4.5667 to the nearest hundreth using a build-in function, round()."
   ]
  },
  {
   "cell_type": "code",
   "execution_count": 1,
   "metadata": {},
   "outputs": [
    {
     "data": {
      "text/plain": [
       "4.57"
      ]
     },
     "execution_count": 1,
     "metadata": {},
     "output_type": "execute_result"
    }
   ],
   "source": [
    "round(4.5667, 2)"
   ]
  },
  {
   "cell_type": "markdown",
   "metadata": {},
   "source": [
    "2. Convert \"657\" to an integer data type"
   ]
  },
  {
   "cell_type": "code",
   "execution_count": 2,
   "metadata": {},
   "outputs": [
    {
     "data": {
      "text/plain": [
       "int"
      ]
     },
     "execution_count": 2,
     "metadata": {},
     "output_type": "execute_result"
    }
   ],
   "source": [
    "x = int(\"657\")\n",
    "type(x)"
   ]
  },
  {
   "cell_type": "markdown",
   "metadata": {},
   "source": [
    "3.\n",
    "Write a program to get two numbers from a user. Then, create a secret code where a code consists of 6 numbers and each number is randomly generated number between two numbers from a user. "
   ]
  },
  {
   "cell_type": "code",
   "execution_count": 3,
   "metadata": {},
   "outputs": [],
   "source": [
    "import random as rand"
   ]
  },
  {
   "cell_type": "code",
   "execution_count": 4,
   "metadata": {},
   "outputs": [
    {
     "name": "stdout",
     "output_type": "stream",
     "text": [
      "Enter your first number --> 1\n",
      "Enter your second number --> 25\n",
      "\n",
      "Six random numbers are 23, 16, 20, 10, 22, 14\n"
     ]
    }
   ],
   "source": [
    "x = int(input(\"Enter your first number --> \"))\n",
    "y = int(input(\"Enter your second number --> \"))\n",
    "\n",
    "\n",
    "ran1 = rand.randint(x,y)\n",
    "ran2 = rand.randint(x,y)\n",
    "ran3 = rand.randint(x,y)\n",
    "ran4 = rand.randint(x,y)\n",
    "ran5 = rand.randint(x,y)\n",
    "ran6 = rand.randint(x,y)\n",
    " \n",
    "print(\"\")\n",
    "print(f\"Six random numbers are {ran1}, {ran2}, {ran3}, {ran4}, {ran5}, {ran6}\")"
   ]
  },
  {
   "cell_type": "markdown",
   "metadata": {},
   "source": [
    "4.\n",
    "Write a program to center align below text where number of characters per line is 40:\n",
    "\n",
    "    Hickory, dickory, dock,\n",
    "    The mouse ran up the clock.\n",
    "    The clock struck one,\n",
    "    The mouse ran down,\n",
    "    Hickory, dickory, dock\n",
    "\n",
    "<b>Do not use string's center method! </b>"
   ]
  },
  {
   "cell_type": "code",
   "execution_count": 5,
   "metadata": {},
   "outputs": [
    {
     "name": "stdout",
     "output_type": "stream",
     "text": [
      "1234567890123456789012345678901234567890\n",
      "        Hickory, dickory, dock,          \n",
      "      The mouse ran up the clock.       \n",
      "         The clock struck one,          \n",
      "          The mouse ran down,           \n",
      "         Hickory, dickory, dock         \n"
     ]
    }
   ],
   "source": [
    "line1 = \"Hickory, dickory, dock,\"\n",
    "line2 = \"The mouse ran up the clock.\"\n",
    "line3 = \"The clock struck one,\"\n",
    "line4 = \"The mouse ran down,\"\n",
    "line5 = \"Hickory, dickory, dock\"\n",
    "\n",
    "line1 = line1.strip()\n",
    "line2 = line2.strip()\n",
    "line3 = line3.strip()\n",
    "line4 = line4.strip()\n",
    "line5 = line5.strip()\n",
    "\n",
    "print(\"1234567890\"*4)\n",
    "print(f'{line1:^40} \\n{line2:^40}\\n{line3:^40}\\n{line4:^40}\\n{line5:^40}')\n"
   ]
  },
  {
   "cell_type": "code",
   "execution_count": 6,
   "metadata": {},
   "outputs": [
    {
     "name": "stdout",
     "output_type": "stream",
     "text": [
      "1234567890123456789012345678901234567890\n",
      "        Hickory, dickory, dock,\n",
      "      The mouse ran up the clock.\n",
      "         The clock struck one,\n",
      "          The mouse ran down,\n",
      "         Hickory, dickory, dock\n"
     ]
    }
   ],
   "source": [
    "line1 = \"Hickory, dickory, dock,\"\n",
    "line2 = \"The mouse ran up the clock.\"\n",
    "line3 = \"The clock struck one,\"\n",
    "line4 = \"The mouse ran down,\"\n",
    "line5 = \"Hickory, dickory, dock\"\n",
    "\n",
    "MAXCHAR = 40\n",
    "line = line1.strip()\n",
    "no_char = len(line)      \n",
    "no_blank =  float(MAXCHAR - no_char) / 2\n",
    "result = str(\" \" * int(no_blank))\n",
    "result = str(result) + line\n",
    "\n",
    "line2 = line2.strip()\n",
    "no_char2 = len(line2)      \n",
    "no_blank2 =  float(MAXCHAR - no_char2) / 2\n",
    "result2 = str(\" \" * int(no_blank2))\n",
    "result2 = str(result2) + line2\n",
    "\n",
    "line3 = line3.strip()\n",
    "no_char3 = len(line3)      \n",
    "no_blank3 =  float(MAXCHAR - no_char3) / 2\n",
    "result3 = str(\" \" * int(no_blank3))\n",
    "result3 = str(result3) + line3\n",
    "\n",
    "line4 = line4.strip()\n",
    "no_char4 = len(line4)      \n",
    "no_blank4 =  float(MAXCHAR - no_char4) / 2\n",
    "result4 = str(\" \" * int(no_blank4))\n",
    "result4 = str(result4) + line4\n",
    "\n",
    "line5 = line5.strip()\n",
    "no_char5 = len(line5)      \n",
    "no_blank5 =  float(MAXCHAR - no_char5) / 2\n",
    "result5 = str(\" \" * int(no_blank5))\n",
    "result5 = str(result5) + line5\n",
    "\n",
    "print(\"1234567890\"*4)\n",
    "print(f'{result}\\n{result2}\\n{result3}\\n{result4}\\n{result5}')"
   ]
  },
  {
   "cell_type": "markdown",
   "metadata": {},
   "source": [
    "5. Write a function to calculate the miles per gallon.\n",
    "Get a miles driven and gallons used from a user and call your function to calculate the miles per gallon. "
   ]
  },
  {
   "cell_type": "code",
   "execution_count": 7,
   "metadata": {},
   "outputs": [],
   "source": [
    "def mpg(miles_drive, gas_gallon):\n",
    "    print(f\"Miles per gallon: {miles_drive / gas_gallon:.2f}\")"
   ]
  },
  {
   "cell_type": "code",
   "execution_count": 8,
   "metadata": {},
   "outputs": [
    {
     "name": "stdout",
     "output_type": "stream",
     "text": [
      "Please enter miles driven: 75.5\n",
      "Please enter gallons used: 6\n",
      "\n",
      "Miles per gallon: 12.58\n"
     ]
    }
   ],
   "source": [
    "miles_drive = float(input(\"Please enter miles driven: \"))\n",
    "gas_gallon = float(input(\"Please enter gallons used: \"))\n",
    "\n",
    "print(\"\")\n",
    "mpg(miles_drive, gas_gallon)"
   ]
  }
 ],
 "metadata": {
  "kernelspec": {
   "display_name": "Python 3",
   "language": "python",
   "name": "python3"
  },
  "language_info": {
   "codemirror_mode": {
    "name": "ipython",
    "version": 3
   },
   "file_extension": ".py",
   "mimetype": "text/x-python",
   "name": "python",
   "nbconvert_exporter": "python",
   "pygments_lexer": "ipython3",
   "version": "3.8.5"
  }
 },
 "nbformat": 4,
 "nbformat_minor": 4
}
